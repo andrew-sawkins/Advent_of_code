{
 "cells": [
  {
   "cell_type": "code",
   "execution_count": 71,
   "metadata": {},
   "outputs": [],
   "source": [
    "# f = open(\"input_day6.txt\", \"r\")\n",
    "f = open(\"input_day6.txt\", \"r\")\n",
    "lines = f.read().splitlines()"
   ]
  },
  {
   "cell_type": "code",
   "execution_count": 72,
   "metadata": {},
   "outputs": [
    {
     "data": {
      "text/plain": [
       "5305"
      ]
     },
     "execution_count": 72,
     "metadata": {},
     "output_type": "execute_result"
    }
   ],
   "source": [
    "# Part 1\n",
    "\n",
    "dir = [[-1,0],[0,1],[1,0],[0,-1]]\n",
    "start_pos = (0,0)\n",
    "R = len(lines)\n",
    "C = len(lines[0])\n",
    "for r in range(R):\n",
    "    for c in range(C):\n",
    "        if lines[r][c] == \"^\":\n",
    "            start_pos = (r,c)\n",
    "\n",
    "current_dir = 0\n",
    "all_pos = {start_pos}\n",
    "current_pos = start_pos\n",
    "\n",
    "while True:\n",
    "    next_pos = (current_pos[0]+dir[current_dir][0], current_pos[1]+dir[current_dir][1])\n",
    "    if not (0 <= next_pos[0] < R and 0 <= next_pos[1] < C):\n",
    "        break\n",
    "    if lines[next_pos[0]][next_pos[1]] == \"#\":\n",
    "        current_dir = (current_dir + 1) % 4\n",
    "    else:\n",
    "        current_pos = next_pos\n",
    "    if lines[current_pos[0]][current_pos[1]] == \".\":\n",
    "        all_pos.add(current_pos)\n",
    "len(all_pos)"
   ]
  },
  {
   "cell_type": "code",
   "execution_count": 76,
   "metadata": {},
   "outputs": [
    {
     "data": {
      "text/plain": [
       "2143"
      ]
     },
     "execution_count": 76,
     "metadata": {},
     "output_type": "execute_result"
    }
   ],
   "source": [
    "# Part 2\n",
    "dir = [[-1,0],[0,1],[1,0],[0,-1]]\n",
    "# start_pos = (0,0)\n",
    "R = len(lines)\n",
    "C = len(lines[0])\n",
    "for r in range(R):\n",
    "    for c in range(C):\n",
    "        if lines[r][c] == \"^\":\n",
    "            start_pos = (r,c)\n",
    "\n",
    "\n",
    "def is_loop(start_pos, lines):\n",
    "    current_dir = 0\n",
    "    current_pos = start_pos\n",
    "    visited = set()\n",
    "\n",
    "    while True:\n",
    "        next_pos = (current_pos[0]+dir[current_dir][0], current_pos[1]+dir[current_dir][1])\n",
    "        if not (0 <= next_pos[0] < R and 0 <= next_pos[1] < C):\n",
    "            break\n",
    "        if lines[next_pos[0]][next_pos[1]] == \"#\":\n",
    "            if (current_pos, current_dir) in visited:\n",
    "                return True\n",
    "            else:\n",
    "                visited.add((current_pos,current_dir))\n",
    "            current_dir = (current_dir + 1) % 4\n",
    "        else:\n",
    "            current_pos = next_pos\n",
    "\n",
    "loop_count = 0 \n",
    "for r in range(R):\n",
    "    for c in range(C):\n",
    "        if lines[r][c] == \".\":\n",
    "            line_list = list(lines[r])\n",
    "            line_list[c] = \"#\" \n",
    "            lines[r] = \"\".join(line_list) \n",
    "            if is_loop(start_pos, lines):\n",
    "                loop_count += 1\n",
    "            line_list[c] = \".\"\n",
    "            lines[r] = \"\".join(line_list)\n",
    "\n",
    "loop_count"
   ]
  },
  {
   "cell_type": "code",
   "execution_count": null,
   "metadata": {},
   "outputs": [],
   "source": []
  }
 ],
 "metadata": {
  "kernelspec": {
   "display_name": "Python 3",
   "language": "python",
   "name": "python3"
  },
  "language_info": {
   "codemirror_mode": {
    "name": "ipython",
    "version": 3
   },
   "file_extension": ".py",
   "mimetype": "text/x-python",
   "name": "python",
   "nbconvert_exporter": "python",
   "pygments_lexer": "ipython3",
   "version": "3.11.0"
  }
 },
 "nbformat": 4,
 "nbformat_minor": 2
}
