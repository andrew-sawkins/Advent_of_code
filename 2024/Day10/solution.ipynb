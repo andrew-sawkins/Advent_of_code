{
 "cells": [
  {
   "cell_type": "code",
   "execution_count": 2,
   "metadata": {},
   "outputs": [
    {
     "data": {
      "text/plain": [
       "582"
      ]
     },
     "execution_count": 2,
     "metadata": {},
     "output_type": "execute_result"
    }
   ],
   "source": [
    "with open(\"input_day10.txt\", 'r') as file:\n",
    "    file_contents = file.read()\n",
    "\n",
    "lines = file_contents.splitlines()\n",
    "R = len(lines)\n",
    "C = len(lines[0])\n",
    "\n",
    "nums = []\n",
    "\n",
    "for line in lines:\n",
    "    line_nums = []\n",
    "    for char in line:\n",
    "        line_nums.append(int(char))\n",
    "    nums.append(line_nums)\n",
    "\n",
    "def find_routes(lines, start, visited, height):\n",
    "    if height == 9:\n",
    "        return {tuple(start)}\n",
    "    \n",
    "    routes = set()\n",
    "    r, c = start\n",
    "    for dr, dc in [(0,1), (0,-1), (1,0), (-1,0)]:\n",
    "        new_row = r + dr\n",
    "        new_col = c + dc\n",
    "\n",
    "        if (0 <= new_row < R and\n",
    "            0 <= new_col < C and \n",
    "            (new_row, new_col) not in visited and \n",
    "            lines[new_row][new_col] == height +1):\n",
    "\n",
    "            visited.add((new_row, new_col))\n",
    "            routes.update(find_routes(lines, [new_row, new_col], visited, height+1))\n",
    "            visited.remove((new_row, new_col))\n",
    "\n",
    "    return routes\n",
    "\n",
    "sum = 0\n",
    "for r in range(R):\n",
    "    for c in range(C):\n",
    "        if nums[r][c] == 0:\n",
    "            routes = find_routes(nums, [r,c], {(r, c)}, 0)\n",
    "            sum += len(routes)\n",
    "sum"
   ]
  },
  {
   "cell_type": "code",
   "execution_count": 4,
   "metadata": {},
   "outputs": [
    {
     "data": {
      "text/plain": [
       "1302"
      ]
     },
     "execution_count": 4,
     "metadata": {},
     "output_type": "execute_result"
    }
   ],
   "source": [
    "def count_routes(lines, start, states, height):\n",
    "    if height == 9:\n",
    "        return 1\n",
    "\n",
    "    state = (start, height)\n",
    "    if state in states:\n",
    "        return states[state]\n",
    "    \n",
    "    routes = 0\n",
    "    r, c = start\n",
    "    for dr, dc in [(0,1), (0,-1), (1,0), (-1,0)]:\n",
    "        new_row = r + dr\n",
    "        new_col = c + dc\n",
    "\n",
    "        if (0 <= new_row < R and\n",
    "            0 <= new_col < C and \n",
    "            lines[new_row][new_col] == height +1):\n",
    "\n",
    "            routes += count_routes(lines, (new_row, new_col), states, height+1)\n",
    "    \n",
    "    states[state] = routes\n",
    "    return routes\n",
    "\n",
    "total_routes = 0\n",
    "for r in range(R):\n",
    "    for c in range(C):\n",
    "        if nums[r][c] == 0:\n",
    "            routes = count_routes(nums, (r,c), {}, 0)\n",
    "            total_routes += routes\n",
    "\n",
    "total_routes"
   ]
  },
  {
   "cell_type": "code",
   "execution_count": null,
   "metadata": {},
   "outputs": [],
   "source": []
  }
 ],
 "metadata": {
  "kernelspec": {
   "display_name": "Python 3",
   "language": "python",
   "name": "python3"
  },
  "language_info": {
   "codemirror_mode": {
    "name": "ipython",
    "version": 3
   },
   "file_extension": ".py",
   "mimetype": "text/x-python",
   "name": "python",
   "nbconvert_exporter": "python",
   "pygments_lexer": "ipython3",
   "version": "3.11.0"
  }
 },
 "nbformat": 4,
 "nbformat_minor": 2
}
