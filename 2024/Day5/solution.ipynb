{
 "cells": [
  {
   "cell_type": "code",
   "execution_count": 1,
   "metadata": {},
   "outputs": [
    {
     "data": {
      "text/plain": [
       "5166"
      ]
     },
     "execution_count": 1,
     "metadata": {},
     "output_type": "execute_result"
    }
   ],
   "source": [
    "# Part 1\n",
    "f = open(\"input_day5.txt\", \"r\")\n",
    "lines = f.read().split(\"\\n\\n\")\n",
    "sep_lines = []\n",
    "for line in lines:\n",
    "    sep_lines.append(line.split(\"\\n\"))\n",
    "rules = sep_lines[0]\n",
    "updates = sep_lines[1]\n",
    "\n",
    "int_updates = []\n",
    "for update in updates[:-1]:\n",
    "    temp_list = []\n",
    "    for i in range(len(update.split(\",\"))):\n",
    "        temp_list.append(int(update.split(\",\")[i]))\n",
    "    int_updates.append(temp_list)\n",
    "\n",
    "\n",
    "checked = {}\n",
    "for i in range(len(rules)):\n",
    "    checked[(int(rules[i][:2]), int(rules[i][3:]))] = True\n",
    "    checked[(int(rules[i][3:]), int(rules[i][:2]))] = False\n",
    "\n",
    "def check_update(update):\n",
    "    for i in range(len(update)):\n",
    "        for j in range(i + 1, len(update)):\n",
    "            key = (update[i], update[j])\n",
    "            if key in checked and not checked[key]:\n",
    "                return False\n",
    "    return True\n",
    "\n",
    "sum = 0\n",
    "\n",
    "for update in int_updates:\n",
    "    if check_update(update):\n",
    "        sum += update[len(update) // 2]\n",
    "\n",
    "sum"
   ]
  },
  {
   "cell_type": "code",
   "execution_count": 4,
   "metadata": {},
   "outputs": [
    {
     "data": {
      "text/plain": [
       "4679"
      ]
     },
     "execution_count": 4,
     "metadata": {},
     "output_type": "execute_result"
    }
   ],
   "source": [
    "def reorder_update(update):\n",
    "    def page_rank(page, other_pages):\n",
    "        rank = 0\n",
    "        for other in other_pages:\n",
    "            if page == other:\n",
    "                continue\n",
    "            if (page, other) in checked:\n",
    "                if checked[(page, other)]:\n",
    "                    rank += 1\n",
    "            elif (other, page) in checked:\n",
    "                if not checked[(other, page)]:\n",
    "                    rank += 1\n",
    "            else:\n",
    "                if page < other:\n",
    "                    rank += 1\n",
    "        return rank\n",
    "\n",
    "    def sort_key(page):\n",
    "        return page_rank(page, update)\n",
    "\n",
    "    sorted_update = sorted(update, key=sort_key)\n",
    "    return sorted_update\n",
    "\n",
    "\n",
    "part2 = 0\n",
    "\n",
    "for update in int_updates:\n",
    "    if not check_update(update): \n",
    "        sorted_update = reorder_update(update) \n",
    "        middle_value = sorted_update[len(sorted_update) // 2]  \n",
    "        part2 += middle_value \n",
    "\n",
    "part2"
   ]
  },
  {
   "cell_type": "code",
   "execution_count": null,
   "metadata": {},
   "outputs": [],
   "source": []
  }
 ],
 "metadata": {
  "kernelspec": {
   "display_name": "Python 3",
   "language": "python",
   "name": "python3"
  },
  "language_info": {
   "codemirror_mode": {
    "name": "ipython",
    "version": 3
   },
   "file_extension": ".py",
   "mimetype": "text/x-python",
   "name": "python",
   "nbconvert_exporter": "python",
   "pygments_lexer": "ipython3",
   "version": "3.11.0"
  }
 },
 "nbformat": 4,
 "nbformat_minor": 2
}
