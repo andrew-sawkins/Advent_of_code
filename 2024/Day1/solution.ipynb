{
 "cells": [
  {
   "cell_type": "code",
   "execution_count": 33,
   "metadata": {},
   "outputs": [
    {
     "data": {
      "text/plain": [
       "2367773"
      ]
     },
     "execution_count": 33,
     "metadata": {},
     "output_type": "execute_result"
    }
   ],
   "source": [
    "import numpy as np\n",
    "\n",
    "f = open(\"input_day1.txt\", \"r\")\n",
    "g = f.read().splitlines()\n",
    "h = []\n",
    "for i in range(len(g)):\n",
    "    h.append(g[i].split())\n",
    "h[0][0]\n",
    "\n",
    "l = []\n",
    "r = []\n",
    "for i in range(len(h)):\n",
    "    l.append(int(h[i][0]))\n",
    "    r.append(int(h[i][1]))\n",
    "l.sort()\n",
    "r.sort()\n",
    "\n",
    "sum = 0 \n",
    "for i in range(len(l)):\n",
    "    sum+=abs(l[i]-r[i])\n",
    "sum"
   ]
  },
  {
   "cell_type": "code",
   "execution_count": 37,
   "metadata": {},
   "outputs": [
    {
     "data": {
      "text/plain": [
       "21271939"
      ]
     },
     "execution_count": 37,
     "metadata": {},
     "output_type": "execute_result"
    }
   ],
   "source": [
    "x = []\n",
    "for i in l:\n",
    "    x.append(r.count(i))\n",
    "sum = 0 \n",
    "for i in range(len(l)):\n",
    "    sum+=abs(l[i]*x[i])\n",
    "sum"
   ]
  },
  {
   "cell_type": "code",
   "execution_count": null,
   "metadata": {},
   "outputs": [],
   "source": []
  }
 ],
 "metadata": {
  "kernelspec": {
   "display_name": "Python 3",
   "language": "python",
   "name": "python3"
  },
  "language_info": {
   "codemirror_mode": {
    "name": "ipython",
    "version": 3
   },
   "file_extension": ".py",
   "mimetype": "text/x-python",
   "name": "python",
   "nbconvert_exporter": "python",
   "pygments_lexer": "ipython3",
   "version": "3.11.0"
  }
 },
 "nbformat": 4,
 "nbformat_minor": 2
}
