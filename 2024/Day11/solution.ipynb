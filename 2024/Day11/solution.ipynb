{
 "cells": [
  {
   "cell_type": "code",
   "execution_count": 1,
   "metadata": {},
   "outputs": [
    {
     "data": {
      "text/plain": [
       "239714"
      ]
     },
     "execution_count": 1,
     "metadata": {},
     "output_type": "execute_result"
    }
   ],
   "source": [
    "with open(\"input_day11.txt\", 'r') as file:\n",
    "    file_contents = file.read()\n",
    "line = file_contents.split(\"\\n\")\n",
    "\n",
    "nums = [int(x) for x in line[0].split()]\n",
    "\n",
    "for _ in range(25):\n",
    "    solved = []\n",
    "    for num in nums:\n",
    "        if num == 0:\n",
    "            solved.append(1)\n",
    "            continue\n",
    "\n",
    "        restring = str(num)\n",
    "        length = len(restring)\n",
    "\n",
    "        if length % 2 == 0:\n",
    "            solved.append(int(restring[:length // 2]))\n",
    "            solved.append(int(restring[length // 2:]))\n",
    "        else:\n",
    "            solved.append(num*2024)\n",
    "    nums = solved\n",
    "    \n",
    "len(nums)"
   ]
  },
  {
   "cell_type": "code",
   "execution_count": 2,
   "metadata": {},
   "outputs": [
    {
     "data": {
      "text/plain": [
       "9845268098826786052"
      ]
     },
     "execution_count": 2,
     "metadata": {},
     "output_type": "execute_result"
    }
   ],
   "source": [
    "cache = {}\n",
    "\n",
    "def part2(num, blinks):\n",
    "    if (num, blinks) in cache:\n",
    "        return cache[(num, blinks)]\n",
    "    \n",
    "    if blinks == 0:\n",
    "        return 1\n",
    "    \n",
    "    if num == 0:\n",
    "        cache[(num, blinks)] = part2(1, blinks - 1)\n",
    "        return part2(1, blinks -1)\n",
    "    \n",
    "    restring = str(num)\n",
    "    length = len(restring)\n",
    "\n",
    "    if length % 2 == 0:\n",
    "        cache[(num, blinks)] = part2(int(restring[:length // 2]), blinks -1) + part2(int(restring[length // 2:]), blinks-1)\n",
    "        return part2(int(restring[:length // 2]), blinks -1) + part2(int(restring[length // 2:]), blinks-1)\n",
    "    \n",
    "    cache[(num, blinks)] = part2(num*2024, blinks-1)\n",
    "    return part2(num*2024, blinks-1)\n",
    "\n",
    "ans = 0\n",
    "for num in nums:\n",
    "    ans += part2(num,75)\n",
    "ans"
   ]
  },
  {
   "cell_type": "code",
   "execution_count": null,
   "metadata": {},
   "outputs": [],
   "source": []
  }
 ],
 "metadata": {
  "kernelspec": {
   "display_name": "Python 3",
   "language": "python",
   "name": "python3"
  },
  "language_info": {
   "codemirror_mode": {
    "name": "ipython",
    "version": 3
   },
   "file_extension": ".py",
   "mimetype": "text/x-python",
   "name": "python",
   "nbconvert_exporter": "python",
   "pygments_lexer": "ipython3",
   "version": "3.11.0"
  }
 },
 "nbformat": 4,
 "nbformat_minor": 2
}
