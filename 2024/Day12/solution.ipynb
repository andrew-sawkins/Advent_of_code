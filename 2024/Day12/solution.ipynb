{
 "cells": [
  {
   "cell_type": "code",
   "execution_count": 3,
   "metadata": {},
   "outputs": [
    {
     "data": {
      "text/plain": [
       "1359028"
      ]
     },
     "execution_count": 3,
     "metadata": {},
     "output_type": "execute_result"
    }
   ],
   "source": [
    "with open(\"input_day12.txt\", 'r') as file:\n",
    "    file_contents = file.read()\n",
    "lines = file_contents.splitlines()\n",
    "\n",
    "def read_map(file_path):\n",
    "    with open(file_path, 'r') as file:\n",
    "        return [list(line.strip()) for line in file]\n",
    "map_data = read_map(\"input_day12.txt\")\n",
    "\n",
    "R = len(lines)\n",
    "C = len(lines[0])\n",
    "\n",
    "def get_neighbours(r, c):\n",
    "    neighbours = []\n",
    "    if r >= 0:\n",
    "        neighbours.append((r-1, c))\n",
    "    if r < R-1:\n",
    "        neighbours.append((r+1, c))\n",
    "    if c >= 0:\n",
    "        neighbours.append((r, c-1))\n",
    "    if c < C-1:\n",
    "        neighbours.append((r, c+1))\n",
    "    return neighbours\n",
    "\n",
    "def flood_fill(map_data, r, c, visited):\n",
    "    region = []\n",
    "    stack = [(r, c)]\n",
    "    plant = map_data[r][c]\n",
    "    while stack:\n",
    "        dr, dc = stack.pop()\n",
    "        if (dr, dc) in visited:\n",
    "            continue\n",
    "        visited.add((dr, dc))\n",
    "        region.append((dr,dc))\n",
    "        for nr, nc in get_neighbours(dr, dc):\n",
    "            if map_data[nr][nc] == plant and (nr, nc) not in visited:\n",
    "                stack.append((nr, nc))\n",
    "    return region\n",
    "\n",
    "def calculate_perimeter(region, map_data):\n",
    "    perimeter = 0\n",
    "    for r, c in region:\n",
    "        if r == 0 or map_data[r-1][c] != map_data[r][c]:\n",
    "            perimeter += 1\n",
    "        if r == R-1 or map_data[r+1][c] != map_data[r][c]:\n",
    "            perimeter += 1\n",
    "        if c == 0 or map_data[r][c-1] != map_data[r][c]:\n",
    "            perimeter += 1\n",
    "        if c == C-1 or map_data[r][c+1] != map_data[r][c]:\n",
    "            perimeter += 1\n",
    "    return perimeter\n",
    "\n",
    "def calculate_cost(map_data):\n",
    "    visited = set()\n",
    "    total_cost = 0\n",
    "    for r in range(R):\n",
    "        for c in range(C):\n",
    "            if (r, c) not in visited:\n",
    "                region = flood_fill(map_data, r, c, visited)\n",
    "                area = len(region)\n",
    "                perimeter = calculate_perimeter(region, map_data)\n",
    "                cost = area * perimeter\n",
    "                total_cost += cost\n",
    "    return total_cost\n",
    "\n",
    "calculate_cost(map_data)"
   ]
  },
  {
   "cell_type": "code",
   "execution_count": null,
   "metadata": {},
   "outputs": [],
   "source": []
  }
 ],
 "metadata": {
  "kernelspec": {
   "display_name": "Python 3",
   "language": "python",
   "name": "python3"
  },
  "language_info": {
   "codemirror_mode": {
    "name": "ipython",
    "version": 3
   },
   "file_extension": ".py",
   "mimetype": "text/x-python",
   "name": "python",
   "nbconvert_exporter": "python",
   "pygments_lexer": "ipython3",
   "version": "3.11.0"
  }
 },
 "nbformat": 4,
 "nbformat_minor": 2
}
