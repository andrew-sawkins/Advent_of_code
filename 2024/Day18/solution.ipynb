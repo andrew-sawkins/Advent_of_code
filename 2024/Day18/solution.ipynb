{
 "cells": [
  {
   "cell_type": "code",
   "execution_count": null,
   "metadata": {},
   "outputs": [],
   "source": [
    "with open(\"input_day18.txt\",'r') as file:\n",
    "    file_contents = file.read()\n",
    "lines = file_contents.split(\"\\n\")\n",
    "\n",
    "coords = [list(map(int, line.split(\",\"))) for line in lines[:-1]]\n",
    "\n",
    "size = 70\n",
    "N = 1024\n",
    "\n",
    "maze = []\n",
    "for _ in range(size+1):\n",
    "    row = [0]*(size+1)\n",
    "    maze.append(row)\n",
    "\n",
    "for x, y in coords[:N]:\n",
    "    maze[y][x] = 1\n",
    "\n",
    "travel = [(0,0,0)]\n",
    "visited = {(0,0)}\n",
    "\n",
    "while travel:\n",
    "    y, x, step = travel.pop(0)\n",
    "    for dy, dx in [(y+1,x), (y,x+1), (y-1, x), (y,x-1)]:\n",
    "        if dy < 0 or dx < 0 or dy > size or dx > size:\n",
    "            continue\n",
    "        if maze[dy][dx] == 1:\n",
    "            continue\n",
    "        if (dy, dx) in visited:\n",
    "            continue\n",
    "        if dy == dx == size:\n",
    "            exit(0)\n",
    "        visited.add((dy,dx))\n",
    "        travel.append((dy,dx,step+1))"
   ]
  },
  {
   "cell_type": "code",
   "execution_count": null,
   "metadata": {},
   "outputs": [],
   "source": []
  }
 ],
 "metadata": {
  "kernelspec": {
   "display_name": "Python 3",
   "language": "python",
   "name": "python3"
  },
  "language_info": {
   "codemirror_mode": {
    "name": "ipython",
    "version": 3
   },
   "file_extension": ".py",
   "mimetype": "text/x-python",
   "name": "python",
   "nbconvert_exporter": "python",
   "pygments_lexer": "ipython3",
   "version": "3.11.0"
  }
 },
 "nbformat": 4,
 "nbformat_minor": 2
}
