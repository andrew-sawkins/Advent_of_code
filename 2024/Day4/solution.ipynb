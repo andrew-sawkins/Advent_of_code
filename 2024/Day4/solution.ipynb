{
 "cells": [
  {
   "cell_type": "code",
   "execution_count": 213,
   "metadata": {},
   "outputs": [
    {
     "name": "stdout",
     "output_type": "stream",
     "text": [
      "9.66 ms ± 755 μs per loop (mean ± std. dev. of 7 runs, 100 loops each)\n"
     ]
    }
   ],
   "source": [
    "%%timeit\n",
    "# Part 1\n",
    "import re\n",
    "\n",
    "f = open(\"input_day4.txt\", \"r\")\n",
    "lines = f.read().splitlines()\n",
    "\n",
    "pattern = r\"XMAS\"\n",
    "pattern2 = r\"SAMX\"\n",
    "\n",
    "chars = []\n",
    "for line in lines:\n",
    "    chars.append(list(line))\n",
    "\n",
    "vert = []\n",
    "for i in range(len(lines)):\n",
    "    temp_list = []\n",
    "    for j in range(len(chars[i])):\n",
    "        temp_list.append(chars[j][i])\n",
    "    vert.append(temp_list)\n",
    "\n",
    "new_vert = []\n",
    "for v in vert:\n",
    "    new_vert.append(''.join(v))\n",
    "\n",
    "diags = []\n",
    "for y in range(2*len(chars)-1):\n",
    "    sub_diag = []\n",
    "    for x in range(len(chars)):\n",
    "        if 0<=y-x<len(chars):\n",
    "            sub_diag.append(chars[y-x][x])\n",
    "    diags.append(sub_diag)\n",
    "\n",
    "diags2 = []\n",
    "for y in range(2*len(chars)-1,-1,-1):\n",
    "    sub_diag2 = []\n",
    "    for x in range(len(chars)):\n",
    "        if 0<=y-x<len(chars):\n",
    "            sub_diag2.append(chars[len(chars)-1-x][y-x])\n",
    "    diags2.append(sub_diag2)\n",
    "diags2\n",
    "\n",
    "new_diags = []\n",
    "for d in diags:\n",
    "    new_diags.append(''.join(d))\n",
    "\n",
    "new_diags2 = []\n",
    "for d2 in diags2:\n",
    "    new_diags2.append(''.join(d2))\n",
    "    \n",
    "found_hor = []\n",
    "for line in lines:\n",
    "    found_hor.append(re.findall(pattern,line))\n",
    "\n",
    "found_vert = []\n",
    "for vert_line in new_vert:\n",
    "    found_vert.append(re.findall(pattern,vert_line))\n",
    "\n",
    "found_diag = []\n",
    "for diag_line in new_diags:\n",
    "    found_diag.append(re.findall(pattern,diag_line))\n",
    "\n",
    "found_diag2 = []\n",
    "for diag_line2 in new_diags2:\n",
    "    found_diag2.append(re.findall(pattern,diag_line2))\n",
    "\n",
    "found_hor_rev = []\n",
    "for line in lines:\n",
    "    found_hor_rev.append(re.findall(pattern2,line))\n",
    "\n",
    "found_vert_rev = []\n",
    "for vert_line in new_vert:\n",
    "    found_vert_rev.append(re.findall(pattern2,vert_line))\n",
    "\n",
    "found_diag_rev = []\n",
    "for diag_line in new_diags:\n",
    "    found_diag_rev.append(re.findall(pattern2,diag_line))\n",
    "\n",
    "found_diag2_rev = []\n",
    "for diag_line2 in new_diags2:\n",
    "    found_diag2_rev.append(re.findall(pattern2,diag_line2))\n",
    "\n",
    "count = 0\n",
    "for i in found_hor:\n",
    "    count+=len(i)\n",
    "for j in found_vert:\n",
    "    count+=len(j)\n",
    "for k in found_diag:\n",
    "    count+=len(k)\n",
    "for l in found_diag2:\n",
    "    count+=len(l)\n",
    "\n",
    "for i in found_hor_rev:\n",
    "    count+=len(i)\n",
    "for j in found_vert_rev:\n",
    "    count+=len(j)\n",
    "for k in found_diag_rev:\n",
    "    count+=len(k)\n",
    "for l in found_diag2_rev:\n",
    "    count+=len(l)\n",
    "count\n"
   ]
  },
  {
   "cell_type": "code",
   "execution_count": 235,
   "metadata": {},
   "outputs": [
    {
     "name": "stdout",
     "output_type": "stream",
     "text": [
      "15 ms ± 2.09 ms per loop (mean ± std. dev. of 7 runs, 100 loops each)\n"
     ]
    }
   ],
   "source": [
    "%%timeit\n",
    "# Part 1 \n",
    "f = open(\"input_day4.txt\", \"r\")\n",
    "lines = f.read().splitlines()\n",
    "count = 0\n",
    "for r in range(len(lines)):\n",
    "    for c in range(len(lines[0])):\n",
    "        if c+3<len(lines[0]) and lines[r][c]=='X' and lines[r][c+1]=='M' and lines[r][c+2]=='A' and lines[r][c+3]=='S':\n",
    "            count+=1\n",
    "        if r+3<len(lines) and lines[r][c]=='X' and lines[r+1][c]=='M' and lines[r+2][c]=='A' and lines[r+3][c]=='S': \n",
    "            count+=1\n",
    "        if c-3>=0 and lines[r][c]=='X' and lines[r][c-1]=='M' and lines[r][c-2]=='A' and lines[r][c-3]=='S':\n",
    "            count+=1\n",
    "        if r-3>=0 and lines[r][c]=='X' and lines[r-1][c]=='M' and lines[r-2][c]=='A' and lines[r-3][c]=='S': \n",
    "            count+=1 \n",
    "        if c-3>=0 and r+3<len(lines) and lines[r][c]=='X' and lines[r+1][c-1]=='M' and lines[r+2][c-2]=='A' and lines[r+3][c-3]=='S':\n",
    "            count+=1\n",
    "        if r-3>=0 and c+3<len(lines[0]) and lines[r][c]=='X' and lines[r-1][c+1]=='M' and lines[r-2][c+2]=='A' and lines[r-3][c+3]=='S': \n",
    "            count+=1 \n",
    "        if c-3>=0 and r-3>=0 and lines[r][c]=='X' and lines[r-1][c-1]=='M' and lines[r-2][c-2]=='A' and lines[r-3][c-3]=='S':\n",
    "            count+=1\n",
    "        if r+3<len(lines) and c+3<len(lines[0]) and lines[r][c]=='X' and lines[r+1][c+1]=='M' and lines[r+2][c+2]=='A' and lines[r+3][c+3]=='S': \n",
    "            count+=1 \n",
    "count"
   ]
  },
  {
   "cell_type": "code",
   "execution_count": 236,
   "metadata": {},
   "outputs": [
    {
     "data": {
      "text/plain": [
       "1912"
      ]
     },
     "execution_count": 236,
     "metadata": {},
     "output_type": "execute_result"
    }
   ],
   "source": [
    "# %%timeit\n",
    "# Part 2\n",
    "f = open(\"input_day4.txt\", \"r\")\n",
    "lines = f.read().splitlines()\n",
    "\n",
    "count = 0\n",
    "for r in range(len(lines)):\n",
    "    for c in range(len(lines[0])):\n",
    "        if lines[r][c] == 'A' and r+1<len(lines) and c+1<len(lines[0]) and r-1>=0 and c-1>=0:\n",
    "            corners = [lines[r+1][c+1], lines[r+1][c-1], lines[r-1][c-1],lines[r-1][c+1]]\n",
    "            if \"\".join(corners) in [\"SSMM\", \"SMMS\",\"MMSS\", \"MSSM\"]:\n",
    "                count+=1\n",
    "count"
   ]
  },
  {
   "cell_type": "code",
   "execution_count": null,
   "metadata": {},
   "outputs": [],
   "source": []
  }
 ],
 "metadata": {
  "kernelspec": {
   "display_name": "Python 3",
   "language": "python",
   "name": "python3"
  },
  "language_info": {
   "codemirror_mode": {
    "name": "ipython",
    "version": 3
   },
   "file_extension": ".py",
   "mimetype": "text/x-python",
   "name": "python",
   "nbconvert_exporter": "python",
   "pygments_lexer": "ipython3",
   "version": "3.11.0"
  }
 },
 "nbformat": 4,
 "nbformat_minor": 2
}
