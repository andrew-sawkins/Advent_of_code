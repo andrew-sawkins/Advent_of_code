{
 "cells": [
  {
   "cell_type": "code",
   "execution_count": 2,
   "metadata": {},
   "outputs": [
    {
     "data": {
      "text/plain": [
       "25629"
      ]
     },
     "execution_count": 2,
     "metadata": {},
     "output_type": "execute_result"
    }
   ],
   "source": [
    "import re\n",
    "\n",
    "with open(\"input_day13.txt\", 'r') as file:\n",
    "    file_contents = file.read()\n",
    "\n",
    "total = 0 \n",
    "\n",
    "lines = file_contents.split(\"\\n\\n\")\n",
    "\n",
    "for line in lines:\n",
    "    ax, ay, bx, by, px, py = map(int, re.findall(r\"\\d+\", line))\n",
    "    ca = (px * by - py * bx) / (ax * by - ay * bx)\n",
    "    cb = (px - ax *ca) / bx\n",
    "\n",
    "    if ca % 1 == cb % 1 == 0:\n",
    "        if ca <= 100 and cb <= 100:\n",
    "            total += int(ca * 3 +cb)\n",
    "total"
   ]
  },
  {
   "cell_type": "code",
   "execution_count": 7,
   "metadata": {},
   "outputs": [
    {
     "data": {
      "text/plain": [
       "107487112929999"
      ]
     },
     "execution_count": 7,
     "metadata": {},
     "output_type": "execute_result"
    }
   ],
   "source": [
    "import re\n",
    "\n",
    "with open(\"input_day13.txt\", 'r') as file:\n",
    "    file_contents = file.read()\n",
    "\n",
    "total = 0 \n",
    "\n",
    "lines = file_contents.split(\"\\n\\n\")\n",
    "\n",
    "for line in lines:\n",
    "    ax, ay, bx, by, px, py = map(int, re.findall(r\"\\d+\", line))\n",
    "    px += 10000000000000\n",
    "    py += 10000000000000\n",
    "    ca = (px * by - py * bx) / (ax * by - ay * bx)\n",
    "    cb = (px - ax *ca) / bx\n",
    "\n",
    "    if ca % 1 == cb % 1 == 0:\n",
    "        total += int(ca * 3 +cb)\n",
    "total"
   ]
  },
  {
   "cell_type": "code",
   "execution_count": null,
   "metadata": {},
   "outputs": [],
   "source": []
  }
 ],
 "metadata": {
  "kernelspec": {
   "display_name": "Python 3",
   "language": "python",
   "name": "python3"
  },
  "language_info": {
   "codemirror_mode": {
    "name": "ipython",
    "version": 3
   },
   "file_extension": ".py",
   "mimetype": "text/x-python",
   "name": "python",
   "nbconvert_exporter": "python",
   "pygments_lexer": "ipython3",
   "version": "3.11.0"
  }
 },
 "nbformat": 4,
 "nbformat_minor": 2
}
