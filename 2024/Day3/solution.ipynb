{
 "cells": [
  {
   "cell_type": "code",
   "execution_count": 3,
   "metadata": {},
   "outputs": [
    {
     "data": {
      "text/plain": [
       "184122457"
      ]
     },
     "execution_count": 3,
     "metadata": {},
     "output_type": "execute_result"
    }
   ],
   "source": [
    "# Part 1\n",
    "import re\n",
    "\n",
    "f = open(\"input_day3.txt\",\"r\") \n",
    "lines = f.read().splitlines()\n",
    "\n",
    "pattern = r\"mul\\(\\d+,\\d+\\)\"\n",
    "matches = []\n",
    "for line in lines:\n",
    "    matches.append(re.findall(pattern,line))\n",
    "\n",
    "nums = []\n",
    "for match in matches:\n",
    "    for i in range(len(match)):\n",
    "        nums.append(match[i][4:-1])\n",
    "\n",
    "new_nums = []\n",
    "for num in nums:\n",
    "    new_nums.append(re.sub(\",\", \"*\",num))\n",
    "\n",
    "result = []\n",
    "for formula in new_nums:\n",
    "    result.append(eval(formula))\n",
    "sum(result)"
   ]
  },
  {
   "cell_type": "code",
   "execution_count": 4,
   "metadata": {},
   "outputs": [
    {
     "data": {
      "text/plain": [
       "107862689"
      ]
     },
     "execution_count": 4,
     "metadata": {},
     "output_type": "execute_result"
    }
   ],
   "source": [
    "# Part 2\n",
    "import itertools\n",
    "\n",
    "pattern = r\"mul\\(\\d+,\\d+\\)|do\\(\\)|don't\\(\\)\"\n",
    "matches = []\n",
    "for line in lines:\n",
    "     matches.append(re.findall(pattern,line))\n",
    "all_matches = list(itertools.chain.from_iterable(matches))\n",
    "\n",
    "remove_dont = []\n",
    "keep = True\n",
    "after_dont = False\n",
    "for match in all_matches:\n",
    "    if match == \"don't()\":\n",
    "        keep = False\n",
    "    elif match == \"do()\":\n",
    "        keep = True\n",
    "        after_dont = False\n",
    "        continue\n",
    "    if keep or after_dont:\n",
    "        remove_dont.append(match)\n",
    "\n",
    "\n",
    "nums = []\n",
    "for match in remove_dont:\n",
    "        nums.append(match[4:-1])\n",
    "\n",
    "new_nums = []\n",
    "for num in nums:\n",
    "    new_nums.append(re.sub(\",\", \"*\",num))\n",
    "\n",
    "result = []\n",
    "for formula in new_nums:\n",
    "    result.append(eval(formula))\n",
    "sum(result)"
   ]
  },
  {
   "cell_type": "code",
   "execution_count": null,
   "metadata": {},
   "outputs": [],
   "source": []
  }
 ],
 "metadata": {
  "kernelspec": {
   "display_name": "Python 3",
   "language": "python",
   "name": "python3"
  },
  "language_info": {
   "codemirror_mode": {
    "name": "ipython",
    "version": 3
   },
   "file_extension": ".py",
   "mimetype": "text/x-python",
   "name": "python",
   "nbconvert_exporter": "python",
   "pygments_lexer": "ipython3",
   "version": "3.11.0"
  }
 },
 "nbformat": 4,
 "nbformat_minor": 2
}
