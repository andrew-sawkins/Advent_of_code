{
 "cells": [
  {
   "cell_type": "code",
   "execution_count": 6,
   "metadata": {},
   "outputs": [
    {
     "data": {
      "text/plain": [
       "318"
      ]
     },
     "execution_count": 6,
     "metadata": {},
     "output_type": "execute_result"
    }
   ],
   "source": [
    "f = open(\"input_day8.txt\", \"r\")\n",
    "lines = f.read().splitlines()\n",
    "\n",
    "R = len(lines)\n",
    "C = len(lines[0])\n",
    "antennas = {}\n",
    "\n",
    "for r, row in enumerate(lines):\n",
    "    for c, char in enumerate(row):\n",
    "        if char != \".\":\n",
    "            if char not in antennas: \n",
    "                antennas[char] = []\n",
    "            antennas[char].append((r, c))\n",
    "\n",
    "antinodes = set()\n",
    "\n",
    "for freq in antennas.values():\n",
    "    for i in range(len(freq)):\n",
    "        for j in range(i + 1, len(freq)):\n",
    "            r1, c1 = freq[i]\n",
    "            r2, c2 = freq[j]\n",
    "            antinodes.add((2 * r1 - r2, 2 * c1 - c2))\n",
    "            antinodes.add((2 * r2 - r1, 2 * c2 - c1))\n",
    "\n",
    "ans = 0\n",
    "for r, c in antinodes:\n",
    "    if 0 <= r < R and 0 <= c < C:\n",
    "        ans+=1\n",
    "ans"
   ]
  },
  {
   "cell_type": "code",
   "execution_count": 9,
   "metadata": {},
   "outputs": [
    {
     "data": {
      "text/plain": [
       "1126"
      ]
     },
     "execution_count": 9,
     "metadata": {},
     "output_type": "execute_result"
    }
   ],
   "source": [
    "f = open(\"input_day8.txt\", \"r\")\n",
    "lines = f.read().splitlines()\n",
    "\n",
    "R = len(lines)\n",
    "C = len(lines[0])\n",
    "antennas = {}\n",
    "\n",
    "for r, row in enumerate(lines):\n",
    "    for c, char in enumerate(row):\n",
    "        if char != \".\":\n",
    "            if char not in antennas: \n",
    "                antennas[char] = []\n",
    "            antennas[char].append((r, c))\n",
    "\n",
    "antinodes = set()\n",
    "\n",
    "for freq in antennas.values():\n",
    "    for i in range(len(freq)):\n",
    "        for j in range(len(freq)):\n",
    "            if i == j: continue\n",
    "            r1, c1 = freq[i]\n",
    "            r2, c2 = freq[j]\n",
    "            dr = r2 - r1\n",
    "            dc = c2 - c1\n",
    "            r = r1\n",
    "            c = c1\n",
    "            while 0 <= r < R and 0 <= c < C:\n",
    "                antinodes.add((r, c))\n",
    "                r += dr\n",
    "                c += dc\n",
    "len(antinodes)"
   ]
  },
  {
   "cell_type": "code",
   "execution_count": null,
   "metadata": {},
   "outputs": [],
   "source": []
  }
 ],
 "metadata": {
  "kernelspec": {
   "display_name": "Python 3",
   "language": "python",
   "name": "python3"
  },
  "language_info": {
   "codemirror_mode": {
    "name": "ipython",
    "version": 3
   },
   "file_extension": ".py",
   "mimetype": "text/x-python",
   "name": "python",
   "nbconvert_exporter": "python",
   "pygments_lexer": "ipython3",
   "version": "3.11.0"
  }
 },
 "nbformat": 4,
 "nbformat_minor": 2
}
