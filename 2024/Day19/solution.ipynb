{
 "cells": [
  {
   "cell_type": "code",
   "execution_count": 10,
   "metadata": {},
   "outputs": [
    {
     "name": "stdout",
     "output_type": "stream",
     "text": [
      "part1 = 228\n",
      "part2 = 584553405070389\n"
     ]
    }
   ],
   "source": [
    "with open(\"input_day19.txt\",'r') as file:\n",
    "    file_contents = file.read()\n",
    "lines = file_contents.splitlines()\n",
    "\n",
    "patterns = set(lines[0].split(\", \"))\n",
    "designs = lines[2:]\n",
    "\n",
    "def design_find(design):\n",
    "    if design == \"\":\n",
    "        return True\n",
    "    for i in range(len(design)+1):\n",
    "        if design[:i] in patterns and design_find(design[i:]):\n",
    "            return True\n",
    "    return False\n",
    "\n",
    "part1 = 0\n",
    "for design in designs:\n",
    "    if design_find(design):\n",
    "        part1 += 1\n",
    "print(f\"part1 = {part1}\")\n",
    "\n",
    "cache = {}\n",
    "\n",
    "def count_arranges(design):\n",
    "    if design == \"\":\n",
    "        return 1\n",
    "    if design in cache:\n",
    "        return cache[design]\n",
    "    \n",
    "    count = 0\n",
    "    for i in range(1, len(design) + 1):\n",
    "        if design[:i] in patterns:\n",
    "            count += count_arranges(design[i:])\n",
    "\n",
    "    cache[design] = count\n",
    "    return count\n",
    "\n",
    "part2 = 0\n",
    "for design in designs:\n",
    "    part2 += count_arranges(design)\n",
    "print(f\"part2 = {part2}\")"
   ]
  },
  {
   "cell_type": "code",
   "execution_count": null,
   "metadata": {},
   "outputs": [],
   "source": []
  }
 ],
 "metadata": {
  "kernelspec": {
   "display_name": "Python 3",
   "language": "python",
   "name": "python3"
  },
  "language_info": {
   "codemirror_mode": {
    "name": "ipython",
    "version": 3
   },
   "file_extension": ".py",
   "mimetype": "text/x-python",
   "name": "python",
   "nbconvert_exporter": "python",
   "pygments_lexer": "ipython3",
   "version": "3.11.0"
  }
 },
 "nbformat": 4,
 "nbformat_minor": 2
}
