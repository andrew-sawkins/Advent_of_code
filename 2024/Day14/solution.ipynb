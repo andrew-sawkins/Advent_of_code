{
 "cells": [
  {
   "cell_type": "code",
   "execution_count": 1,
   "metadata": {},
   "outputs": [
    {
     "data": {
      "text/plain": [
       "209409792"
      ]
     },
     "execution_count": 1,
     "metadata": {},
     "output_type": "execute_result"
    }
   ],
   "source": [
    "import re\n",
    "\n",
    "with open(\"input_day14.txt\", 'r') as file:\n",
    "    file_contents = file.read()\n",
    "lines = file_contents.splitlines()\n",
    "\n",
    "C = 101\n",
    "R = 103\n",
    "\n",
    "robots = []\n",
    "for line in lines:\n",
    "    robots.append(list(map(int, re.findall(r\"-?\\d+\", line))))\n",
    "\n",
    "sol = []\n",
    "\n",
    "for robot in robots:\n",
    "    sol.append(((robot[0]+robot[2]*100)%C, (robot[1] + robot[3]*100)%R))\n",
    "\n",
    "half_R = (R-1)//2\n",
    "half_C = (C-1)//2\n",
    "\n",
    "q1 = q2 = q3 = q4 = 0\n",
    "\n",
    "for c, r in sol:\n",
    "    if r == half_R or c == half_C:\n",
    "        continue\n",
    "    if r < half_R:\n",
    "        if c <= half_C:\n",
    "            q1 += 1\n",
    "        else: \n",
    "            q3 += 1\n",
    "    else:\n",
    "        if c <= half_C:\n",
    "            q2 += 1\n",
    "        else: \n",
    "            q4 += 1\n",
    "\n",
    "q1*q2*q3*q4"
   ]
  },
  {
   "cell_type": "code",
   "execution_count": null,
   "metadata": {},
   "outputs": [],
   "source": []
  }
 ],
 "metadata": {
  "kernelspec": {
   "display_name": "Python 3",
   "language": "python",
   "name": "python3"
  },
  "language_info": {
   "codemirror_mode": {
    "name": "ipython",
    "version": 3
   },
   "file_extension": ".py",
   "mimetype": "text/x-python",
   "name": "python",
   "nbconvert_exporter": "python",
   "pygments_lexer": "ipython3",
   "version": "3.11.0"
  }
 },
 "nbformat": 4,
 "nbformat_minor": 2
}
