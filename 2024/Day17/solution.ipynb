{
 "cells": [
  {
   "cell_type": "code",
   "execution_count": 2,
   "metadata": {},
   "outputs": [
    {
     "data": {
      "text/plain": [
       "[6, 5, 4, 7, 1, 6, 0, 3, 1]"
      ]
     },
     "execution_count": 2,
     "metadata": {},
     "output_type": "execute_result"
    }
   ],
   "source": [
    "a = 44348299\n",
    "b = 0\n",
    "c = 0\n",
    "program = [2,4,1,5,7,5,1,6,0,3,4,2,5,5,3,0]\n",
    "\n",
    "pointer = 0\n",
    "\n",
    "def combo(operand):\n",
    "    if 0 <= operand <= 3:\n",
    "        return operand\n",
    "    if operand == 4:\n",
    "        return a\n",
    "    if operand == 5:\n",
    "        return b\n",
    "    if operand == 6:\n",
    "        return c\n",
    "\n",
    "output = []\n",
    "\n",
    "while pointer < len(program):\n",
    "    instruc = program[pointer]\n",
    "    operand = program[pointer + 1]\n",
    "    if instruc == 0:\n",
    "        a = a >> combo(operand)\n",
    "    elif instruc == 1:\n",
    "        b = b ^ operand\n",
    "    elif instruc == 2:\n",
    "        b = combo(operand) % 8\n",
    "    elif instruc == 3:\n",
    "        if a != 0:\n",
    "            pointer = operand\n",
    "            continue\n",
    "    elif instruc == 4:\n",
    "        b = b ^ c\n",
    "    elif instruc == 5:\n",
    "        output.append(combo(operand) % 8)\n",
    "    elif instruc == 6:\n",
    "        b = a >> combo(operand)\n",
    "    elif instruc == 7:\n",
    "        c = a >> combo(operand)\n",
    "    pointer += 2\n",
    "\n",
    "output"
   ]
  },
  {
   "cell_type": "code",
   "execution_count": null,
   "metadata": {},
   "outputs": [],
   "source": []
  }
 ],
 "metadata": {
  "kernelspec": {
   "display_name": "Python 3",
   "language": "python",
   "name": "python3"
  },
  "language_info": {
   "codemirror_mode": {
    "name": "ipython",
    "version": 3
   },
   "file_extension": ".py",
   "mimetype": "text/x-python",
   "name": "python",
   "nbconvert_exporter": "python",
   "pygments_lexer": "ipython3",
   "version": "3.11.0"
  }
 },
 "nbformat": 4,
 "nbformat_minor": 2
}
