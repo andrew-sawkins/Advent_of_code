{
 "cells": [
  {
   "cell_type": "code",
   "execution_count": 1,
   "metadata": {},
   "outputs": [],
   "source": [
    "with open(\"input_day9.txt\") as file:\n",
    "    file_contents = file.read()\n",
    "line = file_contents[:-1]"
   ]
  },
  {
   "cell_type": "code",
   "execution_count": 2,
   "metadata": {},
   "outputs": [
    {
     "data": {
      "text/plain": [
       "6301895872542"
      ]
     },
     "execution_count": 2,
     "metadata": {},
     "output_type": "execute_result"
    }
   ],
   "source": [
    "files = []\n",
    "pos = 0\n",
    "\n",
    "for i, char in enumerate(line):\n",
    "    num = int(char)\n",
    "    if i % 2 == 0:\n",
    "        files += [pos] * num\n",
    "        pos += 1\n",
    "    else:\n",
    "        files += ['X'] * num\n",
    "\n",
    "spaces = [i for i, x in enumerate(files) if x == 'X']\n",
    "\n",
    "for i in spaces:\n",
    "    while files[-1] == 'X':\n",
    "        files.pop()\n",
    "    if len(files) <= i:\n",
    "        break\n",
    "    files[i] = files.pop()\n",
    "\n",
    "sum(i * x for i, x in enumerate(files))"
   ]
  },
  {
   "cell_type": "code",
   "execution_count": null,
   "metadata": {},
   "outputs": [],
   "source": []
  }
 ],
 "metadata": {
  "kernelspec": {
   "display_name": "Python 3",
   "language": "python",
   "name": "python3"
  },
  "language_info": {
   "codemirror_mode": {
    "name": "ipython",
    "version": 3
   },
   "file_extension": ".py",
   "mimetype": "text/x-python",
   "name": "python",
   "nbconvert_exporter": "python",
   "pygments_lexer": "ipython3",
   "version": "3.11.0"
  }
 },
 "nbformat": 4,
 "nbformat_minor": 2
}
