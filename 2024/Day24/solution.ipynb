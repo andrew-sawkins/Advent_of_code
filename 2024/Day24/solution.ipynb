{
 "cells": [
  {
   "cell_type": "code",
   "execution_count": 40,
   "metadata": {},
   "outputs": [
    {
     "data": {
      "text/plain": [
       "42883464055378"
      ]
     },
     "execution_count": 40,
     "metadata": {},
     "output_type": "execute_result"
    }
   ],
   "source": [
    "with open(\"input_day24.txt\", 'r') as file:\n",
    "    file_contents = file.read()\n",
    "\n",
    "value_section, rule_section = file_contents.strip().split(\"\\n\\n\")\n",
    "\n",
    "values = {}\n",
    "\n",
    "for line in value_section.strip().splitlines():\n",
    "    key, value = line.split(\": \")\n",
    "    values[key] = int(value)\n",
    "\n",
    "operations = []\n",
    "for line in rule_section.strip().splitlines():\n",
    "    operations.append(line.strip())\n",
    "\n",
    "\n",
    "def AND(a, b): \n",
    "    if a == b == 1:\n",
    "        return 1\n",
    "    else:\n",
    "        return 0\n",
    "\n",
    "def OR(a, b): \n",
    "    if a ==  b == 0:\n",
    "        return 0\n",
    "    else:\n",
    "        return 1\n",
    "    \n",
    "def XOR(a, b): \n",
    "    if a != b:\n",
    "        return 1\n",
    "    else:\n",
    "        return 0\n",
    "\n",
    "\n",
    "\n",
    "def compute_operations(values, operations):\n",
    "    derived_values = {}\n",
    "    remaining_operations = operations[:] \n",
    "    \n",
    "    while remaining_operations:\n",
    "        next_remaining_operations = []\n",
    "        for operation in remaining_operations:\n",
    "            parts = operation.split(\" -> \")\n",
    "            result_var = parts[1]\n",
    "            operands = parts[0].split(\" \")\n",
    "            \n",
    "\n",
    "            op1, operator, op2 = operands\n",
    "            operand1 = values.get(op1, derived_values.get(op1))\n",
    "            operand2 = values.get(op2, derived_values.get(op2))\n",
    "            \n",
    "            if operand1 is not None and operand2 is not None:\n",
    "                if operator == \"AND\":\n",
    "                    derived_values[result_var] = AND(operand1, operand2)\n",
    "                elif operator == \"OR\":\n",
    "                    derived_values[result_var] = OR(operand1, operand2)\n",
    "                elif operator == \"XOR\":\n",
    "                    derived_values[result_var] = XOR(operand1, operand2)\n",
    "            else:\n",
    "                next_remaining_operations.append(operation)\n",
    "    \n",
    "        remaining_operations = next_remaining_operations\n",
    "    \n",
    "    return derived_values\n",
    "\n",
    "\n",
    "derived_values = compute_operations(values, operations)\n",
    "\n",
    "z_values = {}\n",
    "for key, value in derived_values.items():\n",
    "    if key.startswith('z'):\n",
    "        z_values[key] = value\n",
    "\n",
    "sorted_z_values = dict(sorted(z_values.items(), reverse = True))\n",
    "\n",
    "values_concatenated = ''.join(str(value) for value in sorted_z_values.values())\n",
    "int(values_concatenated,2)\n"
   ]
  },
  {
   "cell_type": "code",
   "execution_count": null,
   "metadata": {},
   "outputs": [],
   "source": []
  }
 ],
 "metadata": {
  "kernelspec": {
   "display_name": "Python 3",
   "language": "python",
   "name": "python3"
  },
  "language_info": {
   "codemirror_mode": {
    "name": "ipython",
    "version": 3
   },
   "file_extension": ".py",
   "mimetype": "text/x-python",
   "name": "python",
   "nbconvert_exporter": "python",
   "pygments_lexer": "ipython3",
   "version": "3.11.0"
  }
 },
 "nbformat": 4,
 "nbformat_minor": 2
}
