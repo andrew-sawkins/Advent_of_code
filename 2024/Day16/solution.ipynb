{
 "cells": [
  {
   "cell_type": "code",
   "execution_count": null,
   "metadata": {},
   "outputs": [],
   "source": [
    "f = open(\"input_day16.txt\", \"r\")\n",
    "lines = f.read().splitlines()\n"
   ]
  },
  {
   "cell_type": "code",
   "execution_count": 8,
   "metadata": {},
   "outputs": [
    {
     "data": {
      "text/plain": [
       "108504"
      ]
     },
     "execution_count": 8,
     "metadata": {},
     "output_type": "execute_result"
    }
   ],
   "source": [
    "start = (0, 0)\n",
    "end = (0, 0)\n",
    "maze = {}\n",
    "cur_dir = (0, 1)\n",
    "\n",
    "for i, line in enumerate(lines):\n",
    "    for j, char in enumerate(line):\n",
    "        maze[(i, j)] = char\n",
    "        if char == \"S\":\n",
    "            start = (i, j)\n",
    "            reindeer = (i, j)\n",
    "        if char == \"E\":\n",
    "            end = (i, j)\n",
    "\n",
    "visited = {}\n",
    "paths = [[0, cur_dir, start]]\n",
    "all_paths = []\n",
    "for _ in range(1000):\n",
    "    temp_paths = []\n",
    "    for path in sorted(paths):\n",
    "        score = path[0]\n",
    "        cur_dir = path[1]\n",
    "        r, c = path[-1]\n",
    "        for i, j in [(0, 1), (0, -1), (1, 0), (-1, 0)]:\n",
    "            if (r + i, c + j) not in maze:\n",
    "                continue\n",
    "            if maze[(r + i, c + j)] == \"#\":\n",
    "                continue\n",
    "            temp = list(path)\n",
    "            temp.append((r + i, c + j))\n",
    "            temp[1] = (i, j)\n",
    "            temp[0] += 1\n",
    "            if cur_dir != (i, j):\n",
    "                temp[0] += 1000\n",
    "            if ((r + i, c + j), (i, j)) in visited and visited[((r + i, c + j), (i, j))] < temp[0]:\n",
    "                continue\n",
    "            visited[((r + i, c + j), (i, j))] = temp[0]\n",
    "            temp_paths.append(temp)\n",
    "            if end in temp:\n",
    "                all_paths.append(temp)\n",
    "    paths = temp_paths\n",
    "answer_p1 = min(visited.get((end, (0, 1)), max(visited.values())), visited.get((end, (0, -1)), max(visited.values())),\n",
    "              visited.get((end, (1, 0)), max(visited.values())), visited.get((end, (-1, 0)), max(visited.values())))\n",
    "\n",
    "answer_p1\n",
    "\n",
    "\n"
   ]
  },
  {
   "cell_type": "code",
   "execution_count": 10,
   "metadata": {},
   "outputs": [
    {
     "data": {
      "text/plain": [
       "538"
      ]
     },
     "execution_count": 10,
     "metadata": {},
     "output_type": "execute_result"
    }
   ],
   "source": [
    "best_paths = [x for x in all_paths if x[0] == answer_p1]\n",
    "best_tiles = set()\n",
    "for best_path in best_paths:\n",
    "    for path in best_path[2:]:\n",
    "        best_tiles.add(path)\n",
    "answer_p2 = len(best_tiles)\n",
    "answer_p2"
   ]
  },
  {
   "cell_type": "code",
   "execution_count": null,
   "metadata": {},
   "outputs": [],
   "source": []
  }
 ],
 "metadata": {
  "kernelspec": {
   "display_name": "Python 3",
   "language": "python",
   "name": "python3"
  },
  "language_info": {
   "codemirror_mode": {
    "name": "ipython",
    "version": 3
   },
   "file_extension": ".py",
   "mimetype": "text/x-python",
   "name": "python",
   "nbconvert_exporter": "python",
   "pygments_lexer": "ipython3",
   "version": "3.11.0"
  }
 },
 "nbformat": 4,
 "nbformat_minor": 2
}
