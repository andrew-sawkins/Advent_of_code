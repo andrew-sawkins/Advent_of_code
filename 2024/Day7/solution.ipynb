{
 "cells": [
  {
   "cell_type": "code",
   "execution_count": null,
   "metadata": {},
   "outputs": [
    {
     "data": {
      "text/plain": [
       "3245122495150"
      ]
     },
     "execution_count": 20,
     "metadata": {},
     "output_type": "execute_result"
    }
   ],
   "source": [
    "# Part 1\n",
    "import re\n",
    "f = open(\"input_day7.txt\", \"r\")\n",
    "lines = f.read().splitlines()\n",
    "\n",
    "sep_lines = []\n",
    "for line in lines:\n",
    "    sep_lines.append(re.split(\": \",line))\n",
    "\n",
    "def is_solved(aim, nums):\n",
    "    if len(nums) == 1:\n",
    "        return nums[0]==aim\n",
    "    if is_solved(aim, [nums[0]+nums[1]] + nums[2:]):\n",
    "        return True\n",
    "    if is_solved(aim, [nums[0]*nums[1]] + nums[2:]):\n",
    "        return True\n",
    "    return False\n",
    "\n",
    "sum = 0\n",
    "for sep_line in sep_lines:\n",
    "    aim, nums = sep_line[0], sep_line[1]\n",
    "    aim = int(aim)\n",
    "    nums = [int(x) for x in nums.strip().split()]\n",
    "    if is_solved(aim, nums):\n",
    "        sum += aim\n",
    "sum"
   ]
  },
  {
   "cell_type": "code",
   "execution_count": 21,
   "metadata": {},
   "outputs": [
    {
     "data": {
      "text/plain": [
       "105517128211543"
      ]
     },
     "execution_count": 21,
     "metadata": {},
     "output_type": "execute_result"
    }
   ],
   "source": [
    "# Part 2\n",
    "\n",
    "def is_solved2(aim, nums):\n",
    "    if len(nums) == 1:\n",
    "        return nums[0]==aim\n",
    "    if is_solved2(aim, [nums[0]+nums[1]] + nums[2:]):\n",
    "        return True\n",
    "    if is_solved2(aim, [nums[0]*nums[1]] + nums[2:]):\n",
    "        return True\n",
    "    if is_solved2(aim, [int(str(nums[0])+str(nums[1]))] + nums[2:]):\n",
    "        return True\n",
    "    return False\n",
    "\n",
    "sum = 0\n",
    "for sep_line in sep_lines:\n",
    "    aim, nums = sep_line[0], sep_line[1]\n",
    "    aim = int(aim)\n",
    "    nums = [int(x) for x in nums.strip().split()]\n",
    "    if is_solved2(aim, nums):\n",
    "        sum += aim\n",
    "sum"
   ]
  },
  {
   "cell_type": "code",
   "execution_count": null,
   "metadata": {},
   "outputs": [],
   "source": []
  }
 ],
 "metadata": {
  "kernelspec": {
   "display_name": "Python 3",
   "language": "python",
   "name": "python3"
  },
  "language_info": {
   "codemirror_mode": {
    "name": "ipython",
    "version": 3
   },
   "file_extension": ".py",
   "mimetype": "text/x-python",
   "name": "python",
   "nbconvert_exporter": "python",
   "pygments_lexer": "ipython3",
   "version": "3.11.0"
  }
 },
 "nbformat": 4,
 "nbformat_minor": 2
}
