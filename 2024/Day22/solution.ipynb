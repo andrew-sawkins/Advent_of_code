{
 "cells": [
  {
   "cell_type": "code",
   "execution_count": 8,
   "metadata": {},
   "outputs": [
    {
     "name": "stdout",
     "output_type": "stream",
     "text": [
      "13429191512\n"
     ]
    }
   ],
   "source": [
    "with open(\"input_day22.txt\", 'r') as file:\n",
    "    file_contents = file.read()\n",
    "lines = file_contents.splitlines()\n",
    "\n",
    "nums = []\n",
    "for line in lines:\n",
    "    nums.append(int(line))\n",
    "\n",
    "def new_secret(number):\n",
    "    number = (number ^ (number * 64)) % 16777216\n",
    "    number = (number ^ (number // 32)) % 16777216\n",
    "    number = (number ^ (number * 2048)) % 16777216\n",
    "    return number\n",
    "\n",
    "ans = 0\n",
    "\n",
    "for number in nums:\n",
    "    for _ in range(2000):\n",
    "        number = new_secret(number)\n",
    "    ans += number\n",
    "\n",
    "print(ans)\n"
   ]
  },
  {
   "cell_type": "code",
   "execution_count": 13,
   "metadata": {},
   "outputs": [
    {
     "data": {
      "text/plain": [
       "1582"
      ]
     },
     "execution_count": 13,
     "metadata": {},
     "output_type": "execute_result"
    }
   ],
   "source": [
    "sequences= {}\n",
    "\n",
    "for number in nums:\n",
    "    prices = [number % 10]\n",
    "    for _ in range(2000):\n",
    "        number = new_secret(number)\n",
    "        prices.append(number % 10)\n",
    "    seen = set()\n",
    "    for i in range(len(prices) - 4):\n",
    "        seq1, seq2, seq3, seq4, seq5 = prices[i:i + 5]\n",
    "        seq = (seq2 - seq1, seq3 - seq2, seq4 - seq3, seq5 - seq4)\n",
    "        if seq in seen: \n",
    "            continue\n",
    "        seen.add(seq)\n",
    "        if seq not in sequences: \n",
    "            sequences[seq] = 0\n",
    "        sequences[seq] += seq5\n",
    "        \n",
    "max(sequences.values())"
   ]
  },
  {
   "cell_type": "code",
   "execution_count": null,
   "metadata": {},
   "outputs": [],
   "source": []
  }
 ],
 "metadata": {
  "kernelspec": {
   "display_name": "Python 3",
   "language": "python",
   "name": "python3"
  },
  "language_info": {
   "codemirror_mode": {
    "name": "ipython",
    "version": 3
   },
   "file_extension": ".py",
   "mimetype": "text/x-python",
   "name": "python",
   "nbconvert_exporter": "python",
   "pygments_lexer": "ipython3",
   "version": "3.11.0"
  }
 },
 "nbformat": 4,
 "nbformat_minor": 2
}
