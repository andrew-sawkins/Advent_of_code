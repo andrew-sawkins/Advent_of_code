{
 "cells": [
  {
   "cell_type": "code",
   "execution_count": 13,
   "metadata": {},
   "outputs": [
    {
     "name": "stdout",
     "output_type": "stream",
     "text": [
      "3090\n"
     ]
    }
   ],
   "source": [
    "with open(\"input_day25.txt\", 'r') as file:\n",
    "    file_contents = file.read()\n",
    "\n",
    "sections = file_contents.split(\"\\n\\n\")\n",
    "\n",
    "locks = []\n",
    "keys = []\n",
    "\n",
    "for block in sections:\n",
    "    grid = [list(row) for row in block.splitlines()]\n",
    "    transposed_grid = []\n",
    "    for col in range(len(grid[0])):\n",
    "        transposed_row = []\n",
    "        for row in range(len(grid)):\n",
    "            transposed_row.append(grid[row][col])\n",
    "        transposed_grid.append(transposed_row)\n",
    "    \n",
    "    if transposed_grid[0][0] == \"#\":\n",
    "        lock_row_counts = []\n",
    "        for row in transposed_grid:\n",
    "            lock_row_counts.append(row.count(\"#\") - 1)\n",
    "        locks.append(lock_row_counts)\n",
    "    else:\n",
    "        key_row_counts = []\n",
    "        for row in transposed_grid:\n",
    "            key_row_counts.append(row.count(\"#\") - 1)\n",
    "        keys.append(key_row_counts)\n",
    "\n",
    "total = 0\n",
    "\n",
    "for lock in locks:\n",
    "    for key in keys:\n",
    "        valid = True\n",
    "        for i in range(len(lock)):\n",
    "            if lock[i] + key[i] > 5:\n",
    "                valid = False\n",
    "                break\n",
    "        if valid:\n",
    "            total += 1\n",
    "\n",
    "print(total)"
   ]
  },
  {
   "cell_type": "code",
   "execution_count": null,
   "metadata": {},
   "outputs": [],
   "source": []
  }
 ],
 "metadata": {
  "kernelspec": {
   "display_name": "Python 3",
   "language": "python",
   "name": "python3"
  },
  "language_info": {
   "codemirror_mode": {
    "name": "ipython",
    "version": 3
   },
   "file_extension": ".py",
   "mimetype": "text/x-python",
   "name": "python",
   "nbconvert_exporter": "python",
   "pygments_lexer": "ipython3",
   "version": "3.11.0"
  }
 },
 "nbformat": 4,
 "nbformat_minor": 2
}
