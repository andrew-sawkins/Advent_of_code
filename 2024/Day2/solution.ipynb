{
 "cells": [
  {
   "cell_type": "code",
   "execution_count": 69,
   "metadata": {},
   "outputs": [
    {
     "data": {
      "text/plain": [
       "373"
      ]
     },
     "execution_count": 69,
     "metadata": {},
     "output_type": "execute_result"
    }
   ],
   "source": [
    "from itertools import pairwise\n",
    "\n",
    "f = open(\"input_day2.txt\", \"r\")\n",
    "g = f.read().splitlines()\n",
    "h=[]\n",
    "for l in g:\n",
    "    h.append(l.split())\n",
    "for i in range(len(h)):\n",
    "    h[i] = [int(x) for x in h[i]]\n",
    "\n",
    "def safe(numbers):\n",
    "    if numbers == sorted(numbers) or numbers == sorted(numbers, reverse=True):\n",
    "        if max([abs(y-x) for (x,y) in pairwise(numbers)]) <4 and min([abs(y-x) for (x,y) in pairwise(numbers)]) >0:\n",
    "            return True\n",
    "        \n",
    "unsafe = []\n",
    "count = 0\n",
    "for z in h:\n",
    "    if safe(z):\n",
    "        count+=1\n",
    "    else:\n",
    "        unsafe.append(z)\n",
    "\n",
    "def can_be_safe(numbers):\n",
    "    for i in range(len(numbers)):\n",
    "        temp = numbers[:i]+numbers[i+1:]\n",
    "        if safe(temp):\n",
    "            return True\n",
    "    return False\n",
    "\n",
    "for w in unsafe:\n",
    "    if can_be_safe(w):\n",
    "        count+=1\n",
    "count"
   ]
  },
  {
   "cell_type": "code",
   "execution_count": null,
   "metadata": {},
   "outputs": [],
   "source": []
  }
 ],
 "metadata": {
  "kernelspec": {
   "display_name": "Python 3",
   "language": "python",
   "name": "python3"
  },
  "language_info": {
   "codemirror_mode": {
    "name": "ipython",
    "version": 3
   },
   "file_extension": ".py",
   "mimetype": "text/x-python",
   "name": "python",
   "nbconvert_exporter": "python",
   "pygments_lexer": "ipython3",
   "version": "3.11.0"
  }
 },
 "nbformat": 4,
 "nbformat_minor": 2
}
